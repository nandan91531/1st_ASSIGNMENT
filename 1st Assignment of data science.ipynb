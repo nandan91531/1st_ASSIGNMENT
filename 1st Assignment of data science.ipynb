{
 "cells": [
  {
   "cell_type": "markdown",
   "id": "1f3baa04",
   "metadata": {},
   "source": [
    "# TOPIC : PYTHON BASIC VARIABLE"
   ]
  },
  {
   "cell_type": "markdown",
   "id": "a646e0e8",
   "metadata": {},
   "source": [
    "1.Declare two variables, x and y, and assign them integer values. Swap the values of these variables\n",
    " without using any temporary variable."
   ]
  },
  {
   "cell_type": "code",
   "execution_count": 1,
   "id": "ef88a3fc",
   "metadata": {},
   "outputs": [],
   "source": [
    "#Let,\n",
    "\n",
    "X = 15"
   ]
  },
  {
   "cell_type": "code",
   "execution_count": 2,
   "id": "268bf495",
   "metadata": {},
   "outputs": [],
   "source": [
    "Y = 20"
   ]
  },
  {
   "cell_type": "code",
   "execution_count": 3,
   "id": "6d18a8b1",
   "metadata": {},
   "outputs": [],
   "source": [
    "# It will return X = 35\n",
    "X = X+Y"
   ]
  },
  {
   "cell_type": "code",
   "execution_count": 4,
   "id": "e5b99cf4",
   "metadata": {},
   "outputs": [],
   "source": [
    "# here value of 'X' swaps to 'Y'\n",
    "Y = X-Y"
   ]
  },
  {
   "cell_type": "code",
   "execution_count": 5,
   "id": "02edb273",
   "metadata": {},
   "outputs": [
    {
     "data": {
      "text/plain": [
       "15"
      ]
     },
     "execution_count": 5,
     "metadata": {},
     "output_type": "execute_result"
    }
   ],
   "source": [
    "Y"
   ]
  },
  {
   "cell_type": "code",
   "execution_count": 6,
   "id": "ce7d1d23",
   "metadata": {},
   "outputs": [],
   "source": [
    "# here value of 'Y' swaps 'X'\n",
    "X = X - Y"
   ]
  },
  {
   "cell_type": "code",
   "execution_count": 7,
   "id": "e53f02ce",
   "metadata": {},
   "outputs": [
    {
     "data": {
      "text/plain": [
       "20"
      ]
     },
     "execution_count": 7,
     "metadata": {},
     "output_type": "execute_result"
    }
   ],
   "source": [
    "X"
   ]
  },
  {
   "cell_type": "code",
   "execution_count": null,
   "id": "b2cb3b1b",
   "metadata": {},
   "outputs": [],
   "source": []
  },
  {
   "cell_type": "code",
   "execution_count": null,
   "id": "7265f346",
   "metadata": {},
   "outputs": [],
   "source": []
  },
  {
   "cell_type": "markdown",
   "id": "0502d62e",
   "metadata": {},
   "source": [
    "2.Create a program that calculates the area of a rectangle. Take the length and width as inputs\n",
    " from the user and store them in variables. Calculate and display the area."
   ]
  },
  {
   "cell_type": "code",
   "execution_count": 9,
   "id": "1c8cb3c7",
   "metadata": {},
   "outputs": [
    {
     "name": "stdout",
     "output_type": "stream",
     "text": [
      "enter value of length :10\n",
      "enter value of width :20\n"
     ]
    }
   ],
   "source": [
    "''' let 'L' be the length ,'W' be the width & 'A' be the area of rectangle '''\n",
    "\n",
    "# GET INPUT FROM USER FOR LENGTH & WIDTH.\n",
    "\n",
    "L = float(input('enter value of length :'))\n",
    "W = float(input('enter value of width :'))"
   ]
  },
  {
   "cell_type": "code",
   "execution_count": 10,
   "id": "1d6632ad",
   "metadata": {},
   "outputs": [],
   "source": [
    "# CALCULATING AREA OF RECTANGLE USING THE FORMULA\n",
    "A = L*W"
   ]
  },
  {
   "cell_type": "code",
   "execution_count": 11,
   "id": "27c88b25",
   "metadata": {},
   "outputs": [
    {
     "name": "stdout",
     "output_type": "stream",
     "text": [
      "Area of rectangle: 200.0\n"
     ]
    }
   ],
   "source": [
    "# DISPLAY THE CALCULATED VALUE TO THE USER\n",
    "print('Area of rectangle:', A)"
   ]
  },
  {
   "cell_type": "code",
   "execution_count": null,
   "id": "fbf76e34",
   "metadata": {},
   "outputs": [],
   "source": []
  },
  {
   "cell_type": "code",
   "execution_count": null,
   "id": "785c5630",
   "metadata": {},
   "outputs": [],
   "source": []
  },
  {
   "cell_type": "markdown",
   "id": "a0af7b8f",
   "metadata": {},
   "source": [
    "3.Write a Python program that converts temperatures from Celsius to Fahrenheit. Take the temperature in Celsius as input,\n",
    "  store it in a variable, convert it to Fahrenheit, and display the result."
   ]
  },
  {
   "cell_type": "code",
   "execution_count": 12,
   "id": "966e543d",
   "metadata": {},
   "outputs": [
    {
     "name": "stdout",
     "output_type": "stream",
     "text": [
      "value of temp. in degree celsius: 5\n"
     ]
    }
   ],
   "source": [
    "# Taking input from user in degree celsius\n",
    " \n",
    "Celsius_Temperature = float(input('value of temp. in degree celsius: '))"
   ]
  },
  {
   "cell_type": "code",
   "execution_count": 13,
   "id": "5f5965da",
   "metadata": {},
   "outputs": [],
   "source": [
    "# convert Celsius to Fahrenheit using formula\n",
    "\n",
    "Fahrenheit_temperature = 9/5*(Celsius_Temperature)+32"
   ]
  },
  {
   "cell_type": "code",
   "execution_count": 14,
   "id": "99fb189f",
   "metadata": {},
   "outputs": [
    {
     "name": "stdout",
     "output_type": "stream",
     "text": [
      "Fahrenheit_temperature is equal to:  41.0\n"
     ]
    }
   ],
   "source": [
    "# DISPLAY THE CONVERTED TEMPERATURE IN FAHRENHEIT\n",
    "\n",
    "print('Fahrenheit_temperature is equal to: ',Fahrenheit_temperature)"
   ]
  },
  {
   "cell_type": "code",
   "execution_count": null,
   "id": "d02897e8",
   "metadata": {},
   "outputs": [],
   "source": [
    "\n"
   ]
  },
  {
   "cell_type": "markdown",
   "id": "1a0e51a6",
   "metadata": {},
   "source": [
    "# TOPIC : STRING BASED QUESTION"
   ]
  },
  {
   "cell_type": "markdown",
   "id": "b37c13e2",
   "metadata": {},
   "source": [
    "1. Write a Python program that takes a string as input and prints the length of the string."
   ]
  },
  {
   "cell_type": "code",
   "execution_count": 15,
   "id": "42e968e6",
   "metadata": {},
   "outputs": [
    {
     "name": "stdout",
     "output_type": "stream",
     "text": [
      "Enter a string: Sudhanshusir\n"
     ]
    }
   ],
   "source": [
    "# Get input from the user\n",
    "\n",
    "input_string = input('Enter a string: ')"
   ]
  },
  {
   "cell_type": "code",
   "execution_count": 16,
   "id": "5b92a13e",
   "metadata": {},
   "outputs": [],
   "source": [
    "# calculate the length of the input string using in-built len() function\n",
    "\n",
    "string_length = len(input_string)"
   ]
  },
  {
   "cell_type": "code",
   "execution_count": 17,
   "id": "de37ebd0",
   "metadata": {},
   "outputs": [
    {
     "name": "stdout",
     "output_type": "stream",
     "text": [
      "length of input string is: 12\n"
     ]
    }
   ],
   "source": [
    "# print the length of the string to display string_length\n",
    "\n",
    "print('length of input string is:',string_length)"
   ]
  },
  {
   "cell_type": "code",
   "execution_count": null,
   "id": "6f7ef595",
   "metadata": {},
   "outputs": [],
   "source": []
  },
  {
   "cell_type": "code",
   "execution_count": null,
   "id": "c4d4a218",
   "metadata": {},
   "outputs": [],
   "source": []
  },
  {
   "cell_type": "markdown",
   "id": "208449d2",
   "metadata": {},
   "source": [
    "2. Create a program that takes a sentence from the user and counts the number of vowels (a, e, i, o, u) in the string."
   ]
  },
  {
   "cell_type": "code",
   "execution_count": 18,
   "id": "6635a5cb",
   "metadata": {},
   "outputs": [
    {
     "name": "stdout",
     "output_type": "stream",
     "text": [
      "write sentence here: my name is nandan\n"
     ]
    }
   ],
   "source": [
    "# get input from the user\n",
    "sentence = input(\"write sentence here: \")"
   ]
  },
  {
   "cell_type": "code",
   "execution_count": 19,
   "id": "7e24d767",
   "metadata": {},
   "outputs": [],
   "source": [
    "# counting no. of vowel\n",
    "count = len([char for char in sentence if char in \"aeiouAEIOU\"])"
   ]
  },
  {
   "cell_type": "code",
   "execution_count": 20,
   "id": "68aa0bca",
   "metadata": {},
   "outputs": [
    {
     "name": "stdout",
     "output_type": "stream",
     "text": [
      "Number of vowels: 5\n"
     ]
    }
   ],
   "source": [
    "# Display the result\n",
    "print(\"Number of vowels:\",count)"
   ]
  },
  {
   "cell_type": "code",
   "execution_count": null,
   "id": "4f9f73c7",
   "metadata": {},
   "outputs": [],
   "source": []
  },
  {
   "cell_type": "code",
   "execution_count": null,
   "id": "7bc3484d",
   "metadata": {},
   "outputs": [],
   "source": []
  },
  {
   "cell_type": "markdown",
   "id": "52cefc1a",
   "metadata": {},
   "source": [
    "3. Given a string, reverse the order of characters using string slicing and print the reversed string"
   ]
  },
  {
   "cell_type": "code",
   "execution_count": 21,
   "id": "2c87f0d3",
   "metadata": {},
   "outputs": [
    {
     "name": "stdout",
     "output_type": "stream",
     "text": [
      "Enter a string: apple\n"
     ]
    }
   ],
   "source": [
    "# get input string from the user\n",
    "input_string = input(\"Enter a string: \")"
   ]
  },
  {
   "cell_type": "code",
   "execution_count": 22,
   "id": "10d12a77",
   "metadata": {},
   "outputs": [],
   "source": [
    "# Using string slicing concept to reverse the string\n",
    "# Syntax/process:[start:end:step],we start from the end of the string, move backward with step -1, and stop at the beginning.\n",
    "reversed_string = input_string[::-1]"
   ]
  },
  {
   "cell_type": "code",
   "execution_count": 23,
   "id": "65660eb2",
   "metadata": {},
   "outputs": [
    {
     "name": "stdout",
     "output_type": "stream",
     "text": [
      "Reversed string: elppa\n"
     ]
    }
   ],
   "source": [
    "print(\"Reversed string:\",reversed_string)"
   ]
  },
  {
   "cell_type": "code",
   "execution_count": null,
   "id": "d433587a",
   "metadata": {},
   "outputs": [],
   "source": []
  },
  {
   "cell_type": "markdown",
   "id": "3d39f9cc",
   "metadata": {},
   "source": [
    "4. Write a program that takes a string as input and checks if it is a palindrome (reads the same forwards and backwards)."
   ]
  },
  {
   "cell_type": "code",
   "execution_count": 24,
   "id": "085377f4",
   "metadata": {},
   "outputs": [
    {
     "name": "stdout",
     "output_type": "stream",
     "text": [
      "Enter a string: alpha\n"
     ]
    }
   ],
   "source": [
    "# get input from the user\n",
    "input_string = input(\"Enter a string: \")"
   ]
  },
  {
   "cell_type": "code",
   "execution_count": 25,
   "id": "ba1132b3",
   "metadata": {},
   "outputs": [],
   "source": [
    "# Remove spaces and convert the input string to lowercase\n",
    "cleaned_string = input_string.replace(\" \",\"\").lower()"
   ]
  },
  {
   "cell_type": "code",
   "execution_count": 26,
   "id": "015a9e4b",
   "metadata": {},
   "outputs": [],
   "source": [
    "# reverse the cleaned string using slicing\n",
    "reversed_string = cleaned_string[::-1]"
   ]
  },
  {
   "cell_type": "code",
   "execution_count": 27,
   "id": "dfa7d09e",
   "metadata": {},
   "outputs": [
    {
     "name": "stdout",
     "output_type": "stream",
     "text": [
      "The input string is not a Palidrome\n"
     ]
    }
   ],
   "source": [
    "# Compare the cleaned string with its reverse to check for palindrome\n",
    "if cleaned_string == reversed_string:\n",
    " print(\"The input string is a Palidrome.\")\n",
    "else: \n",
    " print(\"The input string is not a Palidrome\")"
   ]
  },
  {
   "cell_type": "code",
   "execution_count": null,
   "id": "f5f9844e",
   "metadata": {},
   "outputs": [],
   "source": []
  },
  {
   "cell_type": "code",
   "execution_count": null,
   "id": "5ea46a48",
   "metadata": {},
   "outputs": [],
   "source": []
  },
  {
   "cell_type": "markdown",
   "id": "0bd21dbe",
   "metadata": {},
   "source": [
    "5. Create a program that takes a string as input and removes all the spaces from it. Print the modified string without spaces."
   ]
  },
  {
   "cell_type": "code",
   "execution_count": 28,
   "id": "a59d3a2f",
   "metadata": {},
   "outputs": [
    {
     "name": "stdout",
     "output_type": "stream",
     "text": [
      "Enter a string: N A NDAN\n"
     ]
    }
   ],
   "source": [
    "# get input from the user\n",
    "input_string = input(\"Enter a string: \")"
   ]
  },
  {
   "cell_type": "code",
   "execution_count": 29,
   "id": "ddf45cb1",
   "metadata": {},
   "outputs": [],
   "source": [
    "# Remove spaces from the string\n",
    "Removedspace_string = input_string.replace(\" \",\"\")"
   ]
  },
  {
   "cell_type": "code",
   "execution_count": 30,
   "id": "e0820566",
   "metadata": {},
   "outputs": [
    {
     "name": "stdout",
     "output_type": "stream",
     "text": [
      "Removed space string: NANDAN\n"
     ]
    }
   ],
   "source": [
    "# display the removed space string to the user\n",
    "\n",
    "print(\"Removed space string:\",Removedspace_string)"
   ]
  },
  {
   "cell_type": "code",
   "execution_count": null,
   "id": "077fa9f4",
   "metadata": {},
   "outputs": [],
   "source": []
  },
  {
   "cell_type": "code",
   "execution_count": null,
   "id": "f1cad81a",
   "metadata": {},
   "outputs": [],
   "source": []
  }
 ],
 "metadata": {
  "kernelspec": {
   "display_name": "Python 3 (ipykernel)",
   "language": "python",
   "name": "python3"
  },
  "language_info": {
   "codemirror_mode": {
    "name": "ipython",
    "version": 3
   },
   "file_extension": ".py",
   "mimetype": "text/x-python",
   "name": "python",
   "nbconvert_exporter": "python",
   "pygments_lexer": "ipython3",
   "version": "3.11.4"
  },
  "varInspector": {
   "cols": {
    "lenName": 16,
    "lenType": 16,
    "lenVar": 40
   },
   "kernels_config": {
    "python": {
     "delete_cmd_postfix": "",
     "delete_cmd_prefix": "del ",
     "library": "var_list.py",
     "varRefreshCmd": "print(var_dic_list())"
    },
    "r": {
     "delete_cmd_postfix": ") ",
     "delete_cmd_prefix": "rm(",
     "library": "var_list.r",
     "varRefreshCmd": "cat(var_dic_list()) "
    }
   },
   "types_to_exclude": [
    "module",
    "function",
    "builtin_function_or_method",
    "instance",
    "_Feature"
   ],
   "window_display": false
  }
 },
 "nbformat": 4,
 "nbformat_minor": 5
}
